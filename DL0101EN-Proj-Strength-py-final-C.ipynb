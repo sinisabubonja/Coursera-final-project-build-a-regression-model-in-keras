{
 "cells": [
  {
   "cell_type": "markdown",
   "metadata": {},
   "source": [
    "<u>**Part C. Increate the number of epochs (5 marks)**</u>\n",
    "\n",
    "Repeat Part B but use 100 epochs this time for training:\n",
    "\n",
    "- One hidden layer of 10 nodes, and a ReLU activation function\n",
    "\n",
    "- Use the adam optimizer and the mean squared error  as the loss function.\n",
    "\n",
    "0. Normalize the data by substracting the mean and dividing by the standard deviation.\n",
    "\n",
    "1. Randomly split the data into a training and test sets by holding 30% of the data for testing. You can use the train_test_split helper function from Scikit-learn.\n",
    "\n",
    "2. Train the model on the training data using 100 epochs.\n",
    "\n",
    "3. Evaluate the model on the test data and compute the mean squared error between the predicted concrete strength and the actual concrete strength. You can use the mean_squared_error function from Scikit-learn.\n",
    "\n",
    "4. Repeat steps 1 - 3, 50 times, i.e., create a list of 50 mean squared errors.\n",
    "\n",
    "5. Report the mean and the standard deviation of the mean squared errors.\n"
   ]
  },
  {
   "cell_type": "markdown",
   "metadata": {
    "button": false,
    "new_sheet": false,
    "run_control": {
     "read_only": false
    }
   },
   "source": [
    "<a id=\"item31\"></a>\n"
   ]
  },
  {
   "cell_type": "markdown",
   "metadata": {
    "button": false,
    "new_sheet": false,
    "run_control": {
     "read_only": false
    }
   },
   "source": [
    "## Download and Clean Dataset\n"
   ]
  },
  {
   "cell_type": "markdown",
   "metadata": {
    "button": false,
    "new_sheet": false,
    "run_control": {
     "read_only": false
    }
   },
   "source": [
    "Let's start by importing the <em>pandas</em> and the Numpy libraries.\n"
   ]
  },
  {
   "cell_type": "code",
   "execution_count": 1,
   "metadata": {
    "button": false,
    "new_sheet": false,
    "run_control": {
     "read_only": false
    }
   },
   "outputs": [],
   "source": [
    "import pandas as pd\n",
    "import numpy as np"
   ]
  },
  {
   "cell_type": "markdown",
   "metadata": {
    "button": false,
    "new_sheet": false,
    "run_control": {
     "read_only": false
    }
   },
   "source": [
    "<strong>The dataset is about the compressive strength of different samples of concrete based on the volumes of the different ingredients that were used to make them. Ingredients include:</strong>\n",
    "\n",
    "<strong>1. Cement</strong>\n",
    "\n",
    "<strong>2. Blast Furnace Slag</strong>\n",
    "\n",
    "<strong>3. Fly Ash</strong>\n",
    "\n",
    "<strong>4. Water</strong>\n",
    "\n",
    "<strong>5. Superplasticizer</strong>\n",
    "\n",
    "<strong>6. Coarse Aggregate</strong>\n",
    "\n",
    "<strong>7. Fine Aggregate</strong>\n"
   ]
  },
  {
   "cell_type": "markdown",
   "metadata": {
    "button": false,
    "new_sheet": false,
    "run_control": {
     "read_only": false
    }
   },
   "source": [
    "Let's download the data and read it into a <em>pandas</em> dataframe.\n"
   ]
  },
  {
   "cell_type": "code",
   "execution_count": 2,
   "metadata": {
    "button": false,
    "new_sheet": false,
    "run_control": {
     "read_only": false
    }
   },
   "outputs": [
    {
     "data": {
      "text/html": [
       "<div>\n",
       "<style scoped>\n",
       "    .dataframe tbody tr th:only-of-type {\n",
       "        vertical-align: middle;\n",
       "    }\n",
       "\n",
       "    .dataframe tbody tr th {\n",
       "        vertical-align: top;\n",
       "    }\n",
       "\n",
       "    .dataframe thead th {\n",
       "        text-align: right;\n",
       "    }\n",
       "</style>\n",
       "<table border=\"1\" class=\"dataframe\">\n",
       "  <thead>\n",
       "    <tr style=\"text-align: right;\">\n",
       "      <th></th>\n",
       "      <th>Cement</th>\n",
       "      <th>Blast Furnace Slag</th>\n",
       "      <th>Fly Ash</th>\n",
       "      <th>Water</th>\n",
       "      <th>Superplasticizer</th>\n",
       "      <th>Coarse Aggregate</th>\n",
       "      <th>Fine Aggregate</th>\n",
       "      <th>Age</th>\n",
       "      <th>Strength</th>\n",
       "    </tr>\n",
       "  </thead>\n",
       "  <tbody>\n",
       "    <tr>\n",
       "      <th>0</th>\n",
       "      <td>540.0</td>\n",
       "      <td>0.0</td>\n",
       "      <td>0.0</td>\n",
       "      <td>162.0</td>\n",
       "      <td>2.5</td>\n",
       "      <td>1040.0</td>\n",
       "      <td>676.0</td>\n",
       "      <td>28</td>\n",
       "      <td>79.99</td>\n",
       "    </tr>\n",
       "    <tr>\n",
       "      <th>1</th>\n",
       "      <td>540.0</td>\n",
       "      <td>0.0</td>\n",
       "      <td>0.0</td>\n",
       "      <td>162.0</td>\n",
       "      <td>2.5</td>\n",
       "      <td>1055.0</td>\n",
       "      <td>676.0</td>\n",
       "      <td>28</td>\n",
       "      <td>61.89</td>\n",
       "    </tr>\n",
       "    <tr>\n",
       "      <th>2</th>\n",
       "      <td>332.5</td>\n",
       "      <td>142.5</td>\n",
       "      <td>0.0</td>\n",
       "      <td>228.0</td>\n",
       "      <td>0.0</td>\n",
       "      <td>932.0</td>\n",
       "      <td>594.0</td>\n",
       "      <td>270</td>\n",
       "      <td>40.27</td>\n",
       "    </tr>\n",
       "    <tr>\n",
       "      <th>3</th>\n",
       "      <td>332.5</td>\n",
       "      <td>142.5</td>\n",
       "      <td>0.0</td>\n",
       "      <td>228.0</td>\n",
       "      <td>0.0</td>\n",
       "      <td>932.0</td>\n",
       "      <td>594.0</td>\n",
       "      <td>365</td>\n",
       "      <td>41.05</td>\n",
       "    </tr>\n",
       "    <tr>\n",
       "      <th>4</th>\n",
       "      <td>198.6</td>\n",
       "      <td>132.4</td>\n",
       "      <td>0.0</td>\n",
       "      <td>192.0</td>\n",
       "      <td>0.0</td>\n",
       "      <td>978.4</td>\n",
       "      <td>825.5</td>\n",
       "      <td>360</td>\n",
       "      <td>44.30</td>\n",
       "    </tr>\n",
       "  </tbody>\n",
       "</table>\n",
       "</div>"
      ],
      "text/plain": [
       "   Cement  Blast Furnace Slag  Fly Ash  Water  Superplasticizer  \\\n",
       "0   540.0                 0.0      0.0  162.0               2.5   \n",
       "1   540.0                 0.0      0.0  162.0               2.5   \n",
       "2   332.5               142.5      0.0  228.0               0.0   \n",
       "3   332.5               142.5      0.0  228.0               0.0   \n",
       "4   198.6               132.4      0.0  192.0               0.0   \n",
       "\n",
       "   Coarse Aggregate  Fine Aggregate  Age  Strength  \n",
       "0            1040.0           676.0   28     79.99  \n",
       "1            1055.0           676.0   28     61.89  \n",
       "2             932.0           594.0  270     40.27  \n",
       "3             932.0           594.0  365     41.05  \n",
       "4             978.4           825.5  360     44.30  "
      ]
     },
     "execution_count": 2,
     "metadata": {},
     "output_type": "execute_result"
    }
   ],
   "source": [
    "concrete_data = pd.read_csv('https://s3-api.us-geo.objectstorage.softlayer.net/cf-courses-data/CognitiveClass/DL0101EN/labs/data/concrete_data.csv')\n",
    "concrete_data.head()"
   ]
  },
  {
   "cell_type": "markdown",
   "metadata": {
    "button": false,
    "new_sheet": false,
    "run_control": {
     "read_only": false
    }
   },
   "source": [
    "So the first concrete sample has 540 cubic meter of cement, 0 cubic meter of blast furnace slag, 0 cubic meter of fly ash, 162 cubic meter of water, 2.5 cubic meter of superplaticizer, 1040 cubic meter of coarse aggregate, 676 cubic meter of fine aggregate. Such a concrete mix which is 28 days old, has a compressive strength of 79.99 MPa.\n"
   ]
  },
  {
   "cell_type": "markdown",
   "metadata": {
    "button": false,
    "new_sheet": false,
    "run_control": {
     "read_only": false
    }
   },
   "source": [
    "#### Let's check how many data points we have.\n"
   ]
  },
  {
   "cell_type": "code",
   "execution_count": 3,
   "metadata": {
    "button": false,
    "new_sheet": false,
    "run_control": {
     "read_only": false
    }
   },
   "outputs": [
    {
     "data": {
      "text/plain": [
       "(1030, 9)"
      ]
     },
     "execution_count": 3,
     "metadata": {},
     "output_type": "execute_result"
    }
   ],
   "source": [
    "concrete_data.shape"
   ]
  },
  {
   "cell_type": "markdown",
   "metadata": {
    "button": false,
    "new_sheet": false,
    "run_control": {
     "read_only": false
    }
   },
   "source": [
    "So, there are approximately 1000 samples to train our model on. Because of the few samples, we have to be careful not to overfit the training data.\n"
   ]
  },
  {
   "cell_type": "markdown",
   "metadata": {
    "button": false,
    "new_sheet": false,
    "run_control": {
     "read_only": false
    }
   },
   "source": [
    "Let's check the dataset for any missing values.\n"
   ]
  },
  {
   "cell_type": "code",
   "execution_count": 4,
   "metadata": {
    "button": false,
    "new_sheet": false,
    "run_control": {
     "read_only": false
    }
   },
   "outputs": [
    {
     "data": {
      "text/html": [
       "<div>\n",
       "<style scoped>\n",
       "    .dataframe tbody tr th:only-of-type {\n",
       "        vertical-align: middle;\n",
       "    }\n",
       "\n",
       "    .dataframe tbody tr th {\n",
       "        vertical-align: top;\n",
       "    }\n",
       "\n",
       "    .dataframe thead th {\n",
       "        text-align: right;\n",
       "    }\n",
       "</style>\n",
       "<table border=\"1\" class=\"dataframe\">\n",
       "  <thead>\n",
       "    <tr style=\"text-align: right;\">\n",
       "      <th></th>\n",
       "      <th>Cement</th>\n",
       "      <th>Blast Furnace Slag</th>\n",
       "      <th>Fly Ash</th>\n",
       "      <th>Water</th>\n",
       "      <th>Superplasticizer</th>\n",
       "      <th>Coarse Aggregate</th>\n",
       "      <th>Fine Aggregate</th>\n",
       "      <th>Age</th>\n",
       "      <th>Strength</th>\n",
       "    </tr>\n",
       "  </thead>\n",
       "  <tbody>\n",
       "    <tr>\n",
       "      <th>count</th>\n",
       "      <td>1030.000000</td>\n",
       "      <td>1030.000000</td>\n",
       "      <td>1030.000000</td>\n",
       "      <td>1030.000000</td>\n",
       "      <td>1030.000000</td>\n",
       "      <td>1030.000000</td>\n",
       "      <td>1030.000000</td>\n",
       "      <td>1030.000000</td>\n",
       "      <td>1030.000000</td>\n",
       "    </tr>\n",
       "    <tr>\n",
       "      <th>mean</th>\n",
       "      <td>281.167864</td>\n",
       "      <td>73.895825</td>\n",
       "      <td>54.188350</td>\n",
       "      <td>181.567282</td>\n",
       "      <td>6.204660</td>\n",
       "      <td>972.918932</td>\n",
       "      <td>773.580485</td>\n",
       "      <td>45.662136</td>\n",
       "      <td>35.817961</td>\n",
       "    </tr>\n",
       "    <tr>\n",
       "      <th>std</th>\n",
       "      <td>104.506364</td>\n",
       "      <td>86.279342</td>\n",
       "      <td>63.997004</td>\n",
       "      <td>21.354219</td>\n",
       "      <td>5.973841</td>\n",
       "      <td>77.753954</td>\n",
       "      <td>80.175980</td>\n",
       "      <td>63.169912</td>\n",
       "      <td>16.705742</td>\n",
       "    </tr>\n",
       "    <tr>\n",
       "      <th>min</th>\n",
       "      <td>102.000000</td>\n",
       "      <td>0.000000</td>\n",
       "      <td>0.000000</td>\n",
       "      <td>121.800000</td>\n",
       "      <td>0.000000</td>\n",
       "      <td>801.000000</td>\n",
       "      <td>594.000000</td>\n",
       "      <td>1.000000</td>\n",
       "      <td>2.330000</td>\n",
       "    </tr>\n",
       "    <tr>\n",
       "      <th>25%</th>\n",
       "      <td>192.375000</td>\n",
       "      <td>0.000000</td>\n",
       "      <td>0.000000</td>\n",
       "      <td>164.900000</td>\n",
       "      <td>0.000000</td>\n",
       "      <td>932.000000</td>\n",
       "      <td>730.950000</td>\n",
       "      <td>7.000000</td>\n",
       "      <td>23.710000</td>\n",
       "    </tr>\n",
       "    <tr>\n",
       "      <th>50%</th>\n",
       "      <td>272.900000</td>\n",
       "      <td>22.000000</td>\n",
       "      <td>0.000000</td>\n",
       "      <td>185.000000</td>\n",
       "      <td>6.400000</td>\n",
       "      <td>968.000000</td>\n",
       "      <td>779.500000</td>\n",
       "      <td>28.000000</td>\n",
       "      <td>34.445000</td>\n",
       "    </tr>\n",
       "    <tr>\n",
       "      <th>75%</th>\n",
       "      <td>350.000000</td>\n",
       "      <td>142.950000</td>\n",
       "      <td>118.300000</td>\n",
       "      <td>192.000000</td>\n",
       "      <td>10.200000</td>\n",
       "      <td>1029.400000</td>\n",
       "      <td>824.000000</td>\n",
       "      <td>56.000000</td>\n",
       "      <td>46.135000</td>\n",
       "    </tr>\n",
       "    <tr>\n",
       "      <th>max</th>\n",
       "      <td>540.000000</td>\n",
       "      <td>359.400000</td>\n",
       "      <td>200.100000</td>\n",
       "      <td>247.000000</td>\n",
       "      <td>32.200000</td>\n",
       "      <td>1145.000000</td>\n",
       "      <td>992.600000</td>\n",
       "      <td>365.000000</td>\n",
       "      <td>82.600000</td>\n",
       "    </tr>\n",
       "  </tbody>\n",
       "</table>\n",
       "</div>"
      ],
      "text/plain": [
       "            Cement  Blast Furnace Slag      Fly Ash        Water  \\\n",
       "count  1030.000000         1030.000000  1030.000000  1030.000000   \n",
       "mean    281.167864           73.895825    54.188350   181.567282   \n",
       "std     104.506364           86.279342    63.997004    21.354219   \n",
       "min     102.000000            0.000000     0.000000   121.800000   \n",
       "25%     192.375000            0.000000     0.000000   164.900000   \n",
       "50%     272.900000           22.000000     0.000000   185.000000   \n",
       "75%     350.000000          142.950000   118.300000   192.000000   \n",
       "max     540.000000          359.400000   200.100000   247.000000   \n",
       "\n",
       "       Superplasticizer  Coarse Aggregate  Fine Aggregate          Age  \\\n",
       "count       1030.000000       1030.000000     1030.000000  1030.000000   \n",
       "mean           6.204660        972.918932      773.580485    45.662136   \n",
       "std            5.973841         77.753954       80.175980    63.169912   \n",
       "min            0.000000        801.000000      594.000000     1.000000   \n",
       "25%            0.000000        932.000000      730.950000     7.000000   \n",
       "50%            6.400000        968.000000      779.500000    28.000000   \n",
       "75%           10.200000       1029.400000      824.000000    56.000000   \n",
       "max           32.200000       1145.000000      992.600000   365.000000   \n",
       "\n",
       "          Strength  \n",
       "count  1030.000000  \n",
       "mean     35.817961  \n",
       "std      16.705742  \n",
       "min       2.330000  \n",
       "25%      23.710000  \n",
       "50%      34.445000  \n",
       "75%      46.135000  \n",
       "max      82.600000  "
      ]
     },
     "execution_count": 4,
     "metadata": {},
     "output_type": "execute_result"
    }
   ],
   "source": [
    "concrete_data.describe()"
   ]
  },
  {
   "cell_type": "code",
   "execution_count": 5,
   "metadata": {
    "button": false,
    "new_sheet": false,
    "run_control": {
     "read_only": false
    }
   },
   "outputs": [
    {
     "data": {
      "text/plain": [
       "Cement                0\n",
       "Blast Furnace Slag    0\n",
       "Fly Ash               0\n",
       "Water                 0\n",
       "Superplasticizer      0\n",
       "Coarse Aggregate      0\n",
       "Fine Aggregate        0\n",
       "Age                   0\n",
       "Strength              0\n",
       "dtype: int64"
      ]
     },
     "execution_count": 5,
     "metadata": {},
     "output_type": "execute_result"
    }
   ],
   "source": [
    "concrete_data.isnull().sum()"
   ]
  },
  {
   "cell_type": "markdown",
   "metadata": {
    "button": false,
    "new_sheet": false,
    "run_control": {
     "read_only": false
    }
   },
   "source": [
    "The data looks very clean and is ready to be used to build our model.\n"
   ]
  },
  {
   "cell_type": "markdown",
   "metadata": {
    "button": false,
    "new_sheet": false,
    "run_control": {
     "read_only": false
    }
   },
   "source": [
    "#### Split data into predictors and target\n"
   ]
  },
  {
   "cell_type": "markdown",
   "metadata": {},
   "source": [
    "The target variable in this problem is the concrete sample strength. Therefore, our predictors will be all the other columns.\n"
   ]
  },
  {
   "cell_type": "code",
   "execution_count": 6,
   "metadata": {
    "button": false,
    "new_sheet": false,
    "run_control": {
     "read_only": false
    }
   },
   "outputs": [],
   "source": [
    "concrete_data_columns = concrete_data.columns\n",
    "\n",
    "predictors = concrete_data [concrete_data_columns [concrete_data_columns  != 'Strength']] # all columns except Strength\n",
    "target = concrete_data ['Strength'] # Strength column"
   ]
  },
  {
   "cell_type": "markdown",
   "metadata": {
    "button": false,
    "new_sheet": false,
    "run_control": {
     "read_only": false
    }
   },
   "source": [
    "<a id=\"item2\"></a>\n"
   ]
  },
  {
   "cell_type": "markdown",
   "metadata": {
    "button": false,
    "new_sheet": false,
    "run_control": {
     "read_only": false
    }
   },
   "source": [
    "Finally, the last step is to normalize the data by substracting the mean and dividing by the standard deviation.\n"
   ]
  },
  {
   "cell_type": "code",
   "execution_count": 7,
   "metadata": {
    "button": false,
    "new_sheet": false,
    "run_control": {
     "read_only": false
    }
   },
   "outputs": [
    {
     "data": {
      "text/html": [
       "<div>\n",
       "<style scoped>\n",
       "    .dataframe tbody tr th:only-of-type {\n",
       "        vertical-align: middle;\n",
       "    }\n",
       "\n",
       "    .dataframe tbody tr th {\n",
       "        vertical-align: top;\n",
       "    }\n",
       "\n",
       "    .dataframe thead th {\n",
       "        text-align: right;\n",
       "    }\n",
       "</style>\n",
       "<table border=\"1\" class=\"dataframe\">\n",
       "  <thead>\n",
       "    <tr style=\"text-align: right;\">\n",
       "      <th></th>\n",
       "      <th>Cement</th>\n",
       "      <th>Blast Furnace Slag</th>\n",
       "      <th>Fly Ash</th>\n",
       "      <th>Water</th>\n",
       "      <th>Superplasticizer</th>\n",
       "      <th>Coarse Aggregate</th>\n",
       "      <th>Fine Aggregate</th>\n",
       "      <th>Age</th>\n",
       "    </tr>\n",
       "  </thead>\n",
       "  <tbody>\n",
       "    <tr>\n",
       "      <th>0</th>\n",
       "      <td>2.476712</td>\n",
       "      <td>-0.856472</td>\n",
       "      <td>-0.846733</td>\n",
       "      <td>-0.916319</td>\n",
       "      <td>-0.620147</td>\n",
       "      <td>0.862735</td>\n",
       "      <td>-1.217079</td>\n",
       "      <td>-0.279597</td>\n",
       "    </tr>\n",
       "    <tr>\n",
       "      <th>1</th>\n",
       "      <td>2.476712</td>\n",
       "      <td>-0.856472</td>\n",
       "      <td>-0.846733</td>\n",
       "      <td>-0.916319</td>\n",
       "      <td>-0.620147</td>\n",
       "      <td>1.055651</td>\n",
       "      <td>-1.217079</td>\n",
       "      <td>-0.279597</td>\n",
       "    </tr>\n",
       "    <tr>\n",
       "      <th>2</th>\n",
       "      <td>0.491187</td>\n",
       "      <td>0.795140</td>\n",
       "      <td>-0.846733</td>\n",
       "      <td>2.174405</td>\n",
       "      <td>-1.038638</td>\n",
       "      <td>-0.526262</td>\n",
       "      <td>-2.239829</td>\n",
       "      <td>3.551340</td>\n",
       "    </tr>\n",
       "    <tr>\n",
       "      <th>3</th>\n",
       "      <td>0.491187</td>\n",
       "      <td>0.795140</td>\n",
       "      <td>-0.846733</td>\n",
       "      <td>2.174405</td>\n",
       "      <td>-1.038638</td>\n",
       "      <td>-0.526262</td>\n",
       "      <td>-2.239829</td>\n",
       "      <td>5.055221</td>\n",
       "    </tr>\n",
       "    <tr>\n",
       "      <th>4</th>\n",
       "      <td>-0.790075</td>\n",
       "      <td>0.678079</td>\n",
       "      <td>-0.846733</td>\n",
       "      <td>0.488555</td>\n",
       "      <td>-1.038638</td>\n",
       "      <td>0.070492</td>\n",
       "      <td>0.647569</td>\n",
       "      <td>4.976069</td>\n",
       "    </tr>\n",
       "  </tbody>\n",
       "</table>\n",
       "</div>"
      ],
      "text/plain": [
       "     Cement  Blast Furnace Slag   Fly Ash     Water  Superplasticizer  \\\n",
       "0  2.476712           -0.856472 -0.846733 -0.916319         -0.620147   \n",
       "1  2.476712           -0.856472 -0.846733 -0.916319         -0.620147   \n",
       "2  0.491187            0.795140 -0.846733  2.174405         -1.038638   \n",
       "3  0.491187            0.795140 -0.846733  2.174405         -1.038638   \n",
       "4 -0.790075            0.678079 -0.846733  0.488555         -1.038638   \n",
       "\n",
       "   Coarse Aggregate  Fine Aggregate       Age  \n",
       "0          0.862735       -1.217079 -0.279597  \n",
       "1          1.055651       -1.217079 -0.279597  \n",
       "2         -0.526262       -2.239829  3.551340  \n",
       "3         -0.526262       -2.239829  5.055221  \n",
       "4          0.070492        0.647569  4.976069  "
      ]
     },
     "execution_count": 7,
     "metadata": {},
     "output_type": "execute_result"
    }
   ],
   "source": [
    "predictors_norm = (predictors - predictors.mean()) / predictors.std()\n",
    "predictors_norm.head()"
   ]
  },
  {
   "cell_type": "code",
   "execution_count": 8,
   "metadata": {},
   "outputs": [
    {
     "data": {
      "text/plain": [
       "(1030, 8)"
      ]
     },
     "execution_count": 8,
     "metadata": {},
     "output_type": "execute_result"
    }
   ],
   "source": [
    "predictors_norm.shape"
   ]
  },
  {
   "cell_type": "markdown",
   "metadata": {},
   "source": [
    "Let's save the number of predictors to *n_cols* since we will need this number when building our network.\n"
   ]
  },
  {
   "cell_type": "code",
   "execution_count": 9,
   "metadata": {
    "button": false,
    "new_sheet": false,
    "run_control": {
     "read_only": false
    }
   },
   "outputs": [],
   "source": [
    "n_cols = predictors_norm.shape[1] # number of predictors"
   ]
  },
  {
   "cell_type": "markdown",
   "metadata": {
    "button": false,
    "new_sheet": false,
    "run_control": {
     "read_only": false
    }
   },
   "source": [
    "<a id=\"item1\"></a>\n"
   ]
  },
  {
   "cell_type": "markdown",
   "metadata": {},
   "source": [
    "<a id='item32'></a>\n"
   ]
  },
  {
   "cell_type": "markdown",
   "metadata": {
    "button": false,
    "new_sheet": false,
    "run_control": {
     "read_only": false
    }
   },
   "source": [
    "## Import Keras\n"
   ]
  },
  {
   "cell_type": "markdown",
   "metadata": {
    "button": false,
    "new_sheet": false,
    "run_control": {
     "read_only": false
    }
   },
   "source": [
    "#### Let's go ahead and import the Keras library\n"
   ]
  },
  {
   "cell_type": "code",
   "execution_count": 10,
   "metadata": {
    "button": false,
    "new_sheet": false,
    "run_control": {
     "read_only": false
    }
   },
   "outputs": [
    {
     "name": "stderr",
     "output_type": "stream",
     "text": [
      "2022-07-21 00:08:43.974382: I tensorflow/stream_executor/cuda/cuda_gpu_executor.cc:975] successful NUMA node read from SysFS had negative value (-1), but there must be at least one NUMA node, so returning NUMA node zero\n",
      "2022-07-21 00:08:44.019259: I tensorflow/stream_executor/cuda/cuda_gpu_executor.cc:975] successful NUMA node read from SysFS had negative value (-1), but there must be at least one NUMA node, so returning NUMA node zero\n",
      "2022-07-21 00:08:44.019478: I tensorflow/stream_executor/cuda/cuda_gpu_executor.cc:975] successful NUMA node read from SysFS had negative value (-1), but there must be at least one NUMA node, so returning NUMA node zero\n"
     ]
    }
   ],
   "source": [
    "import keras\n",
    "import tensorflow as tf\n",
    "\n",
    "try:\n",
    "    tf.config.experimental.set_memory_growth(physical_devices[0], True)\n",
    "except:\n",
    "    # Invalid device or cannot modify virtual devices once initialized.\n",
    "    pass\n",
    "\n",
    "gpus = tf.config.experimental.list_physical_devices('GPU')\n",
    "if gpus:\n",
    "    try:\n",
    "        tf.config.experimental.set_virtual_device_configuration(\n",
    "            gpus[0],[tf.config.experimental.VirtualDeviceConfiguration(memory_limit=3507)])\n",
    "    except RuntimeError as e:\n",
    "        print(e)"
   ]
  },
  {
   "cell_type": "markdown",
   "metadata": {
    "button": false,
    "new_sheet": false,
    "run_control": {
     "read_only": false
    }
   },
   "source": [
    "As you can see, the TensorFlow backend was used to install the Keras library.\n"
   ]
  },
  {
   "cell_type": "markdown",
   "metadata": {
    "button": false,
    "new_sheet": false,
    "run_control": {
     "read_only": false
    }
   },
   "source": [
    "Let's import the rest of the packages from the Keras library that we will need to build our regressoin model.\n"
   ]
  },
  {
   "cell_type": "code",
   "execution_count": 11,
   "metadata": {
    "button": false,
    "new_sheet": false,
    "run_control": {
     "read_only": false
    }
   },
   "outputs": [],
   "source": [
    "from keras.models import Sequential\n",
    "from keras.layers import Dense"
   ]
  },
  {
   "cell_type": "markdown",
   "metadata": {},
   "source": [
    "<a id='item33'></a>\n"
   ]
  },
  {
   "cell_type": "markdown",
   "metadata": {
    "button": false,
    "new_sheet": false,
    "run_control": {
     "read_only": false
    }
   },
   "source": [
    "## Build a Neural Network\n"
   ]
  },
  {
   "cell_type": "markdown",
   "metadata": {
    "button": false,
    "new_sheet": false,
    "run_control": {
     "read_only": false
    }
   },
   "source": [
    "Let's define a function that defines our regression model for us so that we can conveniently call it to create our model.\n"
   ]
  },
  {
   "cell_type": "code",
   "execution_count": 12,
   "metadata": {
    "button": false,
    "new_sheet": false,
    "run_control": {
     "read_only": false
    }
   },
   "outputs": [],
   "source": [
    "# define regression model\n",
    "def regression_model():\n",
    "    # create model\n",
    "    model = Sequential()\n",
    "    # one hidden layer of 10 nodes, and a ReLU activation function\n",
    "    # use the adam optimizer and the mean squared error as the loss function\n",
    "    model.add(Dense(10, activation='relu', input_shape=(n_cols,)))\n",
    "    model.add(Dense(1))\n",
    "    \n",
    "    # compile model\n",
    "    model.compile(optimizer='adam', loss='mean_squared_error')\n",
    "    return model"
   ]
  },
  {
   "cell_type": "markdown",
   "metadata": {},
   "source": [
    "The above function create a model that has two hidden layers, each of 50 hidden units.\n"
   ]
  },
  {
   "cell_type": "markdown",
   "metadata": {
    "button": false,
    "new_sheet": false,
    "run_control": {
     "read_only": false
    }
   },
   "source": [
    "<a id=\"item4\"></a>\n"
   ]
  },
  {
   "cell_type": "markdown",
   "metadata": {},
   "source": [
    "<a id='item34'></a>\n"
   ]
  },
  {
   "cell_type": "markdown",
   "metadata": {
    "button": false,
    "new_sheet": false,
    "run_control": {
     "read_only": false
    }
   },
   "source": [
    "## Train and Test the Network\n"
   ]
  },
  {
   "cell_type": "markdown",
   "metadata": {},
   "source": [
    "Let's call the function now to create our model.\n"
   ]
  },
  {
   "cell_type": "code",
   "execution_count": 13,
   "metadata": {},
   "outputs": [],
   "source": [
    "from sklearn.model_selection import train_test_split\n",
    "\n",
    "# step 1\n",
    "# randomly split the data into a training and test sets by holding 30% of the data for testing\n",
    "X_train, X_test, y_train, y_test = train_test_split(predictors_norm, target.to_numpy(), test_size=0.30)"
   ]
  },
  {
   "cell_type": "markdown",
   "metadata": {},
   "source": [
    "Let's call the function now to create our model."
   ]
  },
  {
   "cell_type": "code",
   "execution_count": 14,
   "metadata": {
    "button": false,
    "new_sheet": false,
    "run_control": {
     "read_only": false
    }
   },
   "outputs": [
    {
     "name": "stderr",
     "output_type": "stream",
     "text": [
      "2022-07-21 00:08:44.423976: I tensorflow/stream_executor/cuda/cuda_gpu_executor.cc:975] successful NUMA node read from SysFS had negative value (-1), but there must be at least one NUMA node, so returning NUMA node zero\n",
      "2022-07-21 00:08:44.424402: I tensorflow/stream_executor/cuda/cuda_gpu_executor.cc:975] successful NUMA node read from SysFS had negative value (-1), but there must be at least one NUMA node, so returning NUMA node zero\n",
      "2022-07-21 00:08:44.424778: I tensorflow/stream_executor/cuda/cuda_gpu_executor.cc:975] successful NUMA node read from SysFS had negative value (-1), but there must be at least one NUMA node, so returning NUMA node zero\n",
      "2022-07-21 00:08:44.951406: I tensorflow/stream_executor/cuda/cuda_gpu_executor.cc:975] successful NUMA node read from SysFS had negative value (-1), but there must be at least one NUMA node, so returning NUMA node zero\n",
      "2022-07-21 00:08:44.951631: I tensorflow/stream_executor/cuda/cuda_gpu_executor.cc:975] successful NUMA node read from SysFS had negative value (-1), but there must be at least one NUMA node, so returning NUMA node zero\n",
      "2022-07-21 00:08:44.951791: I tensorflow/stream_executor/cuda/cuda_gpu_executor.cc:975] successful NUMA node read from SysFS had negative value (-1), but there must be at least one NUMA node, so returning NUMA node zero\n",
      "2022-07-21 00:08:44.951922: I tensorflow/core/common_runtime/gpu/gpu_device.cc:1532] Created device /job:localhost/replica:0/task:0/device:GPU:0 with 3507 MB memory:  -> device: 0, name: NVIDIA GeForce GTX 1050 Ti, pci bus id: 0000:01:00.0, compute capability: 6.1\n"
     ]
    }
   ],
   "source": [
    "# build the model\n",
    "model = regression_model()"
   ]
  },
  {
   "cell_type": "markdown",
   "metadata": {},
   "source": [
    "Next, we will train and test the model at the same time using the *fit* method. We will leave out 30% of the data for validation and we will train the model for 50 epochs.\n"
   ]
  },
  {
   "cell_type": "code",
   "execution_count": 15,
   "metadata": {},
   "outputs": [
    {
     "name": "stdout",
     "output_type": "stream",
     "text": [
      "Epoch 1/100\n",
      "1/1 - 1s - loss: 1602.3433 - val_loss: 1477.3954 - 896ms/epoch - 896ms/step\n",
      "Epoch 2/100\n",
      "1/1 - 0s - loss: 1601.4694 - val_loss: 1476.5034 - 58ms/epoch - 58ms/step\n",
      "Epoch 3/100\n",
      "1/1 - 0s - loss: 1600.5950 - val_loss: 1475.6116 - 52ms/epoch - 52ms/step\n",
      "Epoch 4/100\n",
      "1/1 - 0s - loss: 1599.7198 - val_loss: 1474.7179 - 58ms/epoch - 58ms/step\n",
      "Epoch 5/100\n",
      "1/1 - 0s - loss: 1598.8440 - val_loss: 1473.8218 - 52ms/epoch - 52ms/step\n",
      "Epoch 6/100\n",
      "1/1 - 0s - loss: 1597.9675 - val_loss: 1472.9259 - 61ms/epoch - 61ms/step\n",
      "Epoch 7/100\n",
      "1/1 - 0s - loss: 1597.0907 - val_loss: 1472.0298 - 57ms/epoch - 57ms/step\n",
      "Epoch 8/100\n",
      "1/1 - 0s - loss: 1596.2145 - val_loss: 1471.1334 - 56ms/epoch - 56ms/step\n",
      "Epoch 9/100\n",
      "1/1 - 0s - loss: 1595.3378 - val_loss: 1470.2361 - 57ms/epoch - 57ms/step\n",
      "Epoch 10/100\n",
      "1/1 - 0s - loss: 1594.4615 - val_loss: 1469.3375 - 52ms/epoch - 52ms/step\n",
      "Epoch 11/100\n",
      "1/1 - 0s - loss: 1593.5851 - val_loss: 1468.4384 - 63ms/epoch - 63ms/step\n",
      "Epoch 12/100\n",
      "1/1 - 0s - loss: 1592.7091 - val_loss: 1467.5391 - 63ms/epoch - 63ms/step\n",
      "Epoch 13/100\n",
      "1/1 - 0s - loss: 1591.8329 - val_loss: 1466.6394 - 56ms/epoch - 56ms/step\n",
      "Epoch 14/100\n",
      "1/1 - 0s - loss: 1590.9558 - val_loss: 1465.7391 - 59ms/epoch - 59ms/step\n",
      "Epoch 15/100\n",
      "1/1 - 0s - loss: 1590.0773 - val_loss: 1464.8389 - 55ms/epoch - 55ms/step\n",
      "Epoch 16/100\n",
      "1/1 - 0s - loss: 1589.1981 - val_loss: 1463.9409 - 53ms/epoch - 53ms/step\n",
      "Epoch 17/100\n",
      "1/1 - 0s - loss: 1588.3185 - val_loss: 1463.0428 - 57ms/epoch - 57ms/step\n",
      "Epoch 18/100\n",
      "1/1 - 0s - loss: 1587.4381 - val_loss: 1462.1436 - 59ms/epoch - 59ms/step\n",
      "Epoch 19/100\n",
      "1/1 - 0s - loss: 1586.5570 - val_loss: 1461.2451 - 57ms/epoch - 57ms/step\n",
      "Epoch 20/100\n",
      "1/1 - 0s - loss: 1585.6753 - val_loss: 1460.3455 - 55ms/epoch - 55ms/step\n",
      "Epoch 21/100\n",
      "1/1 - 0s - loss: 1584.7935 - val_loss: 1459.4447 - 53ms/epoch - 53ms/step\n",
      "Epoch 22/100\n",
      "1/1 - 0s - loss: 1583.9110 - val_loss: 1458.5435 - 59ms/epoch - 59ms/step\n",
      "Epoch 23/100\n",
      "1/1 - 0s - loss: 1583.0273 - val_loss: 1457.6412 - 62ms/epoch - 62ms/step\n",
      "Epoch 24/100\n",
      "1/1 - 0s - loss: 1582.1416 - val_loss: 1456.7386 - 56ms/epoch - 56ms/step\n",
      "Epoch 25/100\n",
      "1/1 - 0s - loss: 1581.2554 - val_loss: 1455.8356 - 58ms/epoch - 58ms/step\n",
      "Epoch 26/100\n",
      "1/1 - 0s - loss: 1580.3683 - val_loss: 1454.9314 - 55ms/epoch - 55ms/step\n",
      "Epoch 27/100\n",
      "1/1 - 0s - loss: 1579.4795 - val_loss: 1454.0265 - 64ms/epoch - 64ms/step\n",
      "Epoch 28/100\n",
      "1/1 - 0s - loss: 1578.5902 - val_loss: 1453.1205 - 61ms/epoch - 61ms/step\n",
      "Epoch 29/100\n",
      "1/1 - 0s - loss: 1577.7001 - val_loss: 1452.2134 - 56ms/epoch - 56ms/step\n",
      "Epoch 30/100\n",
      "1/1 - 0s - loss: 1576.8086 - val_loss: 1451.3059 - 55ms/epoch - 55ms/step\n",
      "Epoch 31/100\n",
      "1/1 - 0s - loss: 1575.9166 - val_loss: 1450.3977 - 57ms/epoch - 57ms/step\n",
      "Epoch 32/100\n",
      "1/1 - 0s - loss: 1575.0236 - val_loss: 1449.4886 - 61ms/epoch - 61ms/step\n",
      "Epoch 33/100\n",
      "1/1 - 0s - loss: 1574.1294 - val_loss: 1448.5787 - 59ms/epoch - 59ms/step\n",
      "Epoch 34/100\n",
      "1/1 - 0s - loss: 1573.2343 - val_loss: 1447.6685 - 61ms/epoch - 61ms/step\n",
      "Epoch 35/100\n",
      "1/1 - 0s - loss: 1572.3380 - val_loss: 1446.7572 - 58ms/epoch - 58ms/step\n",
      "Epoch 36/100\n",
      "1/1 - 0s - loss: 1571.4413 - val_loss: 1445.8452 - 60ms/epoch - 60ms/step\n",
      "Epoch 37/100\n",
      "1/1 - 0s - loss: 1570.5428 - val_loss: 1444.9326 - 58ms/epoch - 58ms/step\n",
      "Epoch 38/100\n",
      "1/1 - 0s - loss: 1569.6434 - val_loss: 1444.0182 - 57ms/epoch - 57ms/step\n",
      "Epoch 39/100\n",
      "1/1 - 0s - loss: 1568.7433 - val_loss: 1443.1021 - 65ms/epoch - 65ms/step\n",
      "Epoch 40/100\n",
      "1/1 - 0s - loss: 1567.8416 - val_loss: 1442.1844 - 59ms/epoch - 59ms/step\n",
      "Epoch 41/100\n",
      "1/1 - 0s - loss: 1566.9381 - val_loss: 1441.2662 - 56ms/epoch - 56ms/step\n",
      "Epoch 42/100\n",
      "1/1 - 0s - loss: 1566.0338 - val_loss: 1440.3467 - 54ms/epoch - 54ms/step\n",
      "Epoch 43/100\n",
      "1/1 - 0s - loss: 1565.1278 - val_loss: 1439.4258 - 55ms/epoch - 55ms/step\n",
      "Epoch 44/100\n",
      "1/1 - 0s - loss: 1564.2207 - val_loss: 1438.5050 - 61ms/epoch - 61ms/step\n",
      "Epoch 45/100\n",
      "1/1 - 0s - loss: 1563.3131 - val_loss: 1437.5836 - 57ms/epoch - 57ms/step\n",
      "Epoch 46/100\n",
      "1/1 - 0s - loss: 1562.4036 - val_loss: 1436.6606 - 50ms/epoch - 50ms/step\n",
      "Epoch 47/100\n",
      "1/1 - 0s - loss: 1561.4926 - val_loss: 1435.7362 - 54ms/epoch - 54ms/step\n",
      "Epoch 48/100\n",
      "1/1 - 0s - loss: 1560.5804 - val_loss: 1434.8115 - 62ms/epoch - 62ms/step\n",
      "Epoch 49/100\n",
      "1/1 - 0s - loss: 1559.6670 - val_loss: 1433.8848 - 57ms/epoch - 57ms/step\n",
      "Epoch 50/100\n",
      "1/1 - 0s - loss: 1558.7522 - val_loss: 1432.9565 - 60ms/epoch - 60ms/step\n",
      "Epoch 51/100\n",
      "1/1 - 0s - loss: 1557.8362 - val_loss: 1432.0275 - 62ms/epoch - 62ms/step\n",
      "Epoch 52/100\n",
      "1/1 - 0s - loss: 1556.9188 - val_loss: 1431.0975 - 58ms/epoch - 58ms/step\n",
      "Epoch 53/100\n",
      "1/1 - 0s - loss: 1556.0005 - val_loss: 1430.1666 - 60ms/epoch - 60ms/step\n",
      "Epoch 54/100\n",
      "1/1 - 0s - loss: 1555.0809 - val_loss: 1429.2357 - 58ms/epoch - 58ms/step\n",
      "Epoch 55/100\n",
      "1/1 - 0s - loss: 1554.1613 - val_loss: 1428.3033 - 62ms/epoch - 62ms/step\n",
      "Epoch 56/100\n",
      "1/1 - 0s - loss: 1553.2406 - val_loss: 1427.3694 - 57ms/epoch - 57ms/step\n",
      "Epoch 57/100\n",
      "1/1 - 0s - loss: 1552.3193 - val_loss: 1426.4336 - 53ms/epoch - 53ms/step\n",
      "Epoch 58/100\n",
      "1/1 - 0s - loss: 1551.3972 - val_loss: 1425.4957 - 53ms/epoch - 53ms/step\n",
      "Epoch 59/100\n",
      "1/1 - 0s - loss: 1550.4740 - val_loss: 1424.5540 - 57ms/epoch - 57ms/step\n",
      "Epoch 60/100\n",
      "1/1 - 0s - loss: 1549.5503 - val_loss: 1423.6110 - 58ms/epoch - 58ms/step\n",
      "Epoch 61/100\n",
      "1/1 - 0s - loss: 1548.6259 - val_loss: 1422.6669 - 56ms/epoch - 56ms/step\n",
      "Epoch 62/100\n",
      "1/1 - 0s - loss: 1547.7001 - val_loss: 1421.7219 - 61ms/epoch - 61ms/step\n",
      "Epoch 63/100\n",
      "1/1 - 0s - loss: 1546.7734 - val_loss: 1420.7759 - 71ms/epoch - 71ms/step\n",
      "Epoch 64/100\n",
      "1/1 - 0s - loss: 1545.8448 - val_loss: 1419.8293 - 61ms/epoch - 61ms/step\n",
      "Epoch 65/100\n",
      "1/1 - 0s - loss: 1544.9150 - val_loss: 1418.8822 - 68ms/epoch - 68ms/step\n",
      "Epoch 66/100\n",
      "1/1 - 0s - loss: 1543.9840 - val_loss: 1417.9336 - 65ms/epoch - 65ms/step\n",
      "Epoch 67/100\n",
      "1/1 - 0s - loss: 1543.0519 - val_loss: 1416.9835 - 59ms/epoch - 59ms/step\n",
      "Epoch 68/100\n",
      "1/1 - 0s - loss: 1542.1179 - val_loss: 1416.0326 - 57ms/epoch - 57ms/step\n",
      "Epoch 69/100\n",
      "1/1 - 0s - loss: 1541.1819 - val_loss: 1415.0801 - 60ms/epoch - 60ms/step\n",
      "Epoch 70/100\n",
      "1/1 - 0s - loss: 1540.2445 - val_loss: 1414.1265 - 55ms/epoch - 55ms/step\n",
      "Epoch 71/100\n",
      "1/1 - 0s - loss: 1539.3053 - val_loss: 1413.1716 - 56ms/epoch - 56ms/step\n",
      "Epoch 72/100\n",
      "1/1 - 0s - loss: 1538.3656 - val_loss: 1412.2161 - 72ms/epoch - 72ms/step\n",
      "Epoch 73/100\n",
      "1/1 - 0s - loss: 1537.4246 - val_loss: 1411.2588 - 62ms/epoch - 62ms/step\n",
      "Epoch 74/100\n",
      "1/1 - 0s - loss: 1536.4825 - val_loss: 1410.3003 - 66ms/epoch - 66ms/step\n",
      "Epoch 75/100\n",
      "1/1 - 0s - loss: 1535.5381 - val_loss: 1409.3411 - 59ms/epoch - 59ms/step\n",
      "Epoch 76/100\n",
      "1/1 - 0s - loss: 1534.5920 - val_loss: 1408.3809 - 57ms/epoch - 57ms/step\n",
      "Epoch 77/100\n",
      "1/1 - 0s - loss: 1533.6451 - val_loss: 1407.4193 - 55ms/epoch - 55ms/step\n",
      "Epoch 78/100\n",
      "1/1 - 0s - loss: 1532.6968 - val_loss: 1406.4564 - 56ms/epoch - 56ms/step\n",
      "Epoch 79/100\n",
      "1/1 - 0s - loss: 1531.7462 - val_loss: 1405.4917 - 55ms/epoch - 55ms/step\n",
      "Epoch 80/100\n",
      "1/1 - 0s - loss: 1530.7944 - val_loss: 1404.5258 - 50ms/epoch - 50ms/step\n",
      "Epoch 81/100\n",
      "1/1 - 0s - loss: 1529.8407 - val_loss: 1403.5591 - 58ms/epoch - 58ms/step\n",
      "Epoch 82/100\n",
      "1/1 - 0s - loss: 1528.8856 - val_loss: 1402.5905 - 57ms/epoch - 57ms/step\n",
      "Epoch 83/100\n",
      "1/1 - 0s - loss: 1527.9279 - val_loss: 1401.6212 - 61ms/epoch - 61ms/step\n",
      "Epoch 84/100\n",
      "1/1 - 0s - loss: 1526.9686 - val_loss: 1400.6508 - 56ms/epoch - 56ms/step\n",
      "Epoch 85/100\n",
      "1/1 - 0s - loss: 1526.0076 - val_loss: 1399.6790 - 58ms/epoch - 58ms/step\n",
      "Epoch 86/100\n",
      "1/1 - 0s - loss: 1525.0457 - val_loss: 1398.7061 - 63ms/epoch - 63ms/step\n",
      "Epoch 87/100\n",
      "1/1 - 0s - loss: 1524.0812 - val_loss: 1397.7317 - 58ms/epoch - 58ms/step\n",
      "Epoch 88/100\n",
      "1/1 - 0s - loss: 1523.1151 - val_loss: 1396.7560 - 53ms/epoch - 53ms/step\n",
      "Epoch 89/100\n",
      "1/1 - 0s - loss: 1522.1470 - val_loss: 1395.7786 - 56ms/epoch - 56ms/step\n",
      "Epoch 90/100\n",
      "1/1 - 0s - loss: 1521.1777 - val_loss: 1394.7994 - 58ms/epoch - 58ms/step\n",
      "Epoch 91/100\n",
      "1/1 - 0s - loss: 1520.2072 - val_loss: 1393.8190 - 61ms/epoch - 61ms/step\n",
      "Epoch 92/100\n",
      "1/1 - 0s - loss: 1519.2349 - val_loss: 1392.8367 - 55ms/epoch - 55ms/step\n",
      "Epoch 93/100\n",
      "1/1 - 0s - loss: 1518.2607 - val_loss: 1391.8519 - 58ms/epoch - 58ms/step\n",
      "Epoch 94/100\n",
      "1/1 - 0s - loss: 1517.2845 - val_loss: 1390.8657 - 54ms/epoch - 54ms/step\n",
      "Epoch 95/100\n",
      "1/1 - 0s - loss: 1516.3062 - val_loss: 1389.8784 - 54ms/epoch - 54ms/step\n"
     ]
    },
    {
     "name": "stdout",
     "output_type": "stream",
     "text": [
      "Epoch 96/100\n",
      "1/1 - 0s - loss: 1515.3263 - val_loss: 1388.8900 - 57ms/epoch - 57ms/step\n",
      "Epoch 97/100\n",
      "1/1 - 0s - loss: 1514.3444 - val_loss: 1387.9011 - 55ms/epoch - 55ms/step\n",
      "Epoch 98/100\n",
      "1/1 - 0s - loss: 1513.3611 - val_loss: 1386.9106 - 63ms/epoch - 63ms/step\n",
      "Epoch 99/100\n",
      "1/1 - 0s - loss: 1512.3766 - val_loss: 1385.9183 - 60ms/epoch - 60ms/step\n",
      "Epoch 100/100\n",
      "1/1 - 0s - loss: 1511.3906 - val_loss: 1384.9247 - 56ms/epoch - 56ms/step\n"
     ]
    },
    {
     "data": {
      "text/plain": [
       "<keras.callbacks.History at 0x7f7bc6cd6280>"
      ]
     },
     "execution_count": 15,
     "metadata": {},
     "output_type": "execute_result"
    }
   ],
   "source": [
    "from Sequences import DatasetGenerator\n",
    "\n",
    "# data generator with tensorflow on the GPU\n",
    "train_set = DatasetGenerator(X_train, y_train, 3507)\n",
    "test_set = DatasetGenerator(X_test, y_test, 3507)\n",
    "\n",
    "# step 2\n",
    "# train the model on the training data using 50 epochs\n",
    "model.fit(train_set, validation_data=test_set, epochs=100, verbose=2)"
   ]
  },
  {
   "cell_type": "code",
   "execution_count": 16,
   "metadata": {},
   "outputs": [
    {
     "name": "stdout",
     "output_type": "stream",
     "text": [
      "1/1 [==============================] - 0s 182ms/step\n",
      "Mean squared error: 1384.9246478566336\n"
     ]
    }
   ],
   "source": [
    "from sklearn.metrics import mean_squared_error\n",
    "\n",
    "# step 3\n",
    "# evaluate the model on the test data and compute the mean squared error \n",
    "# between the predicted concrete strength and the actual concrete strength\n",
    "y_pred = model.predict(test_set)\n",
    "\n",
    "print(\"Mean squared error: {}\".format(mean_squared_error(y_test, y_pred)))"
   ]
  },
  {
   "cell_type": "code",
   "execution_count": 17,
   "metadata": {},
   "outputs": [
    {
     "name": "stdout",
     "output_type": "stream",
     "text": [
      "1/1 [==============================] - 0s 37ms/step\n",
      "1/1 [==============================] - 0s 35ms/step\n",
      "1/1 [==============================] - 0s 36ms/step\n",
      "1/1 [==============================] - 0s 36ms/step\n",
      "1/1 [==============================] - 0s 37ms/step\n",
      "1/1 [==============================] - 0s 40ms/step\n",
      "1/1 [==============================] - 0s 40ms/step\n",
      "1/1 [==============================] - 0s 39ms/step\n",
      "1/1 [==============================] - 0s 35ms/step\n",
      "1/1 [==============================] - 0s 38ms/step\n",
      "1/1 [==============================] - 0s 38ms/step\n",
      "1/1 [==============================] - 0s 40ms/step\n",
      "1/1 [==============================] - 0s 36ms/step\n",
      "1/1 [==============================] - 0s 35ms/step\n",
      "1/1 [==============================] - 0s 39ms/step\n",
      "1/1 [==============================] - 0s 39ms/step\n",
      "1/1 [==============================] - 0s 39ms/step\n",
      "1/1 [==============================] - 0s 35ms/step\n",
      "1/1 [==============================] - 0s 39ms/step\n",
      "1/1 [==============================] - 0s 39ms/step\n",
      "1/1 [==============================] - 0s 42ms/step\n",
      "1/1 [==============================] - 0s 36ms/step\n",
      "1/1 [==============================] - 0s 39ms/step\n",
      "1/1 [==============================] - 0s 39ms/step\n",
      "1/1 [==============================] - 0s 38ms/step\n",
      "1/1 [==============================] - 0s 41ms/step\n",
      "1/1 [==============================] - 0s 41ms/step\n",
      "1/1 [==============================] - 0s 40ms/step\n",
      "1/1 [==============================] - 0s 37ms/step\n",
      "1/1 [==============================] - 0s 38ms/step\n",
      "1/1 [==============================] - 0s 40ms/step\n",
      "1/1 [==============================] - 0s 39ms/step\n",
      "1/1 [==============================] - 0s 40ms/step\n",
      "1/1 [==============================] - 0s 38ms/step\n",
      "1/1 [==============================] - 0s 38ms/step\n",
      "1/1 [==============================] - 0s 36ms/step\n",
      "1/1 [==============================] - 0s 38ms/step\n",
      "1/1 [==============================] - 0s 38ms/step\n",
      "1/1 [==============================] - 0s 38ms/step\n",
      "1/1 [==============================] - 0s 36ms/step\n",
      "1/1 [==============================] - 0s 38ms/step\n",
      "1/1 [==============================] - 0s 35ms/step\n",
      "1/1 [==============================] - 0s 40ms/step\n",
      "1/1 [==============================] - 0s 39ms/step\n",
      "1/1 [==============================] - 0s 41ms/step\n",
      "1/1 [==============================] - 0s 41ms/step\n",
      "1/1 [==============================] - 0s 39ms/step\n",
      "1/1 [==============================] - 0s 38ms/step\n",
      "1/1 [==============================] - 0s 38ms/step\n",
      "1/1 [==============================] - 0s 40ms/step\n"
     ]
    }
   ],
   "source": [
    "# step 4\n",
    "# repeat steps 1 - 3, 50 times, i.e., create a list of 50 mean squared errors\n",
    "mean_squared_errors = []\n",
    "\n",
    "for i in range(50):\n",
    "    X_train, X_test, y_train, y_test = train_test_split(predictors_norm, target.to_numpy(), test_size=0.30)\n",
    "    \n",
    "    train_set = DatasetGenerator(X_train, y_train, 3507)\n",
    "    test_set = DatasetGenerator(X_test, y_test, 3507)\n",
    "    \n",
    "    model.fit(train_set, validation_data=test_set, epochs=100, verbose=0)\n",
    "    \n",
    "    y_pred = model.predict(test_set)\n",
    "    mean_squared_errors.append(mean_squared_error(y_test, y_pred))"
   ]
  },
  {
   "cell_type": "code",
   "execution_count": 18,
   "metadata": {},
   "outputs": [
    {
     "name": "stdout",
     "output_type": "stream",
     "text": [
      "Mean of the mean squared errors: 245.62299992040658\n",
      "\n",
      "Standard deviation of the mean squared errors: 314.6549803579013\n"
     ]
    }
   ],
   "source": [
    "# step 5\n",
    "# report the mean and the standard deviation of the mean squared errors\n",
    "mse = np.asarray(mean_squared_errors)\n",
    "mean = mse.mean()\n",
    "std = mse.std()\n",
    "print(\"Mean of the mean squared errors: {}\\n\".format(mean))\n",
    "print(\"Standard deviation of the mean squared errors: {}\".format(std))"
   ]
  },
  {
   "cell_type": "markdown",
   "metadata": {},
   "source": [
    "The mean of the mean squared errors decreased compared to that from Step B."
   ]
  },
  {
   "cell_type": "code",
   "execution_count": null,
   "metadata": {},
   "outputs": [],
   "source": []
  }
 ],
 "metadata": {
  "kernelspec": {
   "display_name": "Python4DL",
   "language": "python",
   "name": "python4dl"
  },
  "language_info": {
   "codemirror_mode": {
    "name": "ipython",
    "version": 3
   },
   "file_extension": ".py",
   "mimetype": "text/x-python",
   "name": "python",
   "nbconvert_exporter": "python",
   "pygments_lexer": "ipython3",
   "version": "3.8.10"
  }
 },
 "nbformat": 4,
 "nbformat_minor": 4
}
